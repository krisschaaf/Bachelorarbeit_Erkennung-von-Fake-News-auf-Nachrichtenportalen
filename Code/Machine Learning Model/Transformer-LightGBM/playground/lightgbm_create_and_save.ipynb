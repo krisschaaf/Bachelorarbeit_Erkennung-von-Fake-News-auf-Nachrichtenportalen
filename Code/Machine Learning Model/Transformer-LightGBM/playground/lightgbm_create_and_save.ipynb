{
 "cells": [
  {
   "cell_type": "code",
   "execution_count": 15,
   "id": "3894c93c",
   "metadata": {},
   "outputs": [],
   "source": [
    "import numpy as np\n",
    "import lightgbm as lgb\n",
    "from sklearn.model_selection import train_test_split\n",
    "\n",
    "# Random generator\n",
    "rng = np.random.default_rng()\n",
    "\n",
    "# Generate full dataset\n",
    "data = rng.uniform(size=(500, 10))\n",
    "label = rng.integers(low=0, high=2, size=(500, ))\n",
    "\n",
    "# Split into train and validation\n",
    "X_train, X_val, y_train, y_val = train_test_split(data, label, test_size=0.2, random_state=42)"
   ]
  },
  {
   "cell_type": "code",
   "execution_count": 16,
   "id": "23d9e50b",
   "metadata": {},
   "outputs": [],
   "source": [
    "# Create LightGBM datasets\n",
    "train_data = lgb.Dataset(X_train, label=y_train)\n",
    "valid_data = lgb.Dataset(X_val, label=y_val, reference=train_data)\n",
    "\n",
    "# Train model\n",
    "params = {\n",
    "    'objective': 'binary',\n",
    "    'metric': 'binary_logloss',\n",
    "    'verbose': -1\n",
    "}\n",
    "\n",
    "bst = lgb.train(params, \n",
    "                train_data, \n",
    "                valid_sets=[train_data, valid_data], \n",
    "                valid_names=['train', 'valid'],\n",
    "                num_boost_round=100)"
   ]
  },
  {
   "cell_type": "code",
   "execution_count": 17,
   "id": "eedc39c5",
   "metadata": {},
   "outputs": [
    {
     "data": {
      "text/plain": [
       "<lightgbm.basic.Booster at 0x1263fd790>"
      ]
     },
     "execution_count": 17,
     "metadata": {},
     "output_type": "execute_result"
    }
   ],
   "source": [
    "bst.save_model('lightgbm_out/model_2.txt', num_iteration=bst.best_iteration)"
   ]
  },
  {
   "cell_type": "code",
   "execution_count": 18,
   "id": "dbf927be",
   "metadata": {},
   "outputs": [
    {
     "name": "stdout",
     "output_type": "stream",
     "text": [
      "First 10 probabilities: [0.79011494 0.95591661 0.06051964 0.56769793 0.82798641 0.04733866\n",
      " 0.16917339 0.59698712 0.74243372 0.65314874]\n",
      "First 10 predicted labels: [1 1 0 1 1 0 0 1 1 1]\n",
      "First 10 true labels: [1 0 0 0 1 0 0 0 1 0]\n"
     ]
    }
   ],
   "source": [
    "# Predict probabilities\n",
    "y_pred = bst.predict(X_val)\n",
    "\n",
    "# Threshold at 0.5 to get predicted class\n",
    "y_pred_labels = (y_pred > 0.5).astype(int)\n",
    "\n",
    "# Example output\n",
    "print(\"First 10 probabilities:\", y_pred[:10])\n",
    "print(\"First 10 predicted labels:\", y_pred_labels[:10])\n",
    "print(\"First 10 true labels:\", y_val[:10])"
   ]
  },
  {
   "cell_type": "code",
   "execution_count": 19,
   "id": "45d4179f",
   "metadata": {},
   "outputs": [
    {
     "name": "stdout",
     "output_type": "stream",
     "text": [
      "Accuracy:  0.5400\n",
      "Precision: 0.5800\n",
      "Recall:    0.5370\n",
      "F1 score:  0.5577\n"
     ]
    }
   ],
   "source": [
    "from sklearn.metrics import accuracy_score, precision_score, recall_score, f1_score\n",
    "\n",
    "# Predict probabilities\n",
    "y_pred = bst.predict(X_val)\n",
    "\n",
    "# Convert probabilities to binary predictions\n",
    "y_pred_labels = (y_pred > 0.5).astype(int)\n",
    "\n",
    "# Metrics\n",
    "accuracy = accuracy_score(y_val, y_pred_labels)\n",
    "precision = precision_score(y_val, y_pred_labels)\n",
    "recall = recall_score(y_val, y_pred_labels)\n",
    "f1 = f1_score(y_val, y_pred_labels)\n",
    "\n",
    "# Display\n",
    "print(f\"Accuracy:  {accuracy:.4f}\")\n",
    "print(f\"Precision: {precision:.4f}\")\n",
    "print(f\"Recall:    {recall:.4f}\")\n",
    "print(f\"F1 score:  {f1:.4f}\")"
   ]
  },
  {
   "cell_type": "code",
   "execution_count": 21,
   "id": "3f31bf76",
   "metadata": {},
   "outputs": [
    {
     "name": "stderr",
     "output_type": "stream",
     "text": [
      "Unable to revert mtime: /Library/Fonts\n",
      "Matplotlib is building the font cache; this may take a moment.\n"
     ]
    },
    {
     "data": {
      "image/png": "[encoded data removed]",
      "text/plain": [
       "<Figure size 640x480 with 2 Axes>"
      ]
     },
     "metadata": {},
     "output_type": "display_data"
    }
   ],
   "source": [
    "import matplotlib.pyplot as plt\n",
    "from sklearn.metrics import ConfusionMatrixDisplay, confusion_matrix\n",
    "\n",
    "# Compute confusion matrix\n",
    "cm = confusion_matrix(y_val, y_pred_labels)\n",
    "\n",
    "# Plot\n",
    "disp = ConfusionMatrixDisplay(confusion_matrix=cm, display_labels=[0, 1])\n",
    "disp.plot(cmap=plt.cm.Blues)\n",
    "plt.title(\"Confusion Matrix\")\n",
    "plt.show()\n"
   ]
  }
 ],
 "metadata": {
  "kernelspec": {
   "display_name": "Python 3",
   "language": "python",
   "name": "python3"
  },
  "language_info": {
   "codemirror_mode": {
    "name": "ipython",
    "version": 3
   },
   "file_extension": ".py",
   "mimetype": "text/x-python",
   "name": "python",
   "nbconvert_exporter": "python",
   "pygments_lexer": "ipython3",
   "version": "3.12.7"
  }
 },
 "nbformat": 4,
 "nbformat_minor": 5
}
