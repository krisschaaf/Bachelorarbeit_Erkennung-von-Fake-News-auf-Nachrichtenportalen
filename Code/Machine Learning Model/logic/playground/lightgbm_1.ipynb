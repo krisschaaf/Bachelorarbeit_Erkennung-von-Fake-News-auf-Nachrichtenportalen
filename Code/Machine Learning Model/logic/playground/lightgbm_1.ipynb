{
 "cells": [
  {
   "cell_type": "code",
   "execution_count": 14,
   "id": "00944b3c",
   "metadata": {},
   "outputs": [],
   "source": [
    "import lightgbm as lgb\n",
    "import numpy as np"
   ]
  },
  {
   "cell_type": "code",
   "execution_count": null,
   "id": "933a47c2",
   "metadata": {},
   "outputs": [
    {
     "name": "stdout",
     "output_type": "stream",
     "text": [
      "[[0.83191538 0.43082432 0.61159493 ... 0.02113202 0.32720976 0.25947061]\n",
      " [0.35072696 0.26869279 0.34498095 ... 0.03030492 0.5966143  0.6757915 ]\n",
      " [0.34258914 0.65862602 0.56978158 ... 0.15831254 0.2049655  0.78810314]\n",
      " ...\n",
      " [0.74349484 0.24667945 0.45132932 ... 0.25207253 0.12402166 0.45062215]\n",
      " [0.43962572 0.96279867 0.27555958 ... 0.08946219 0.71084363 0.17679236]\n",
      " [0.49693533 0.63915848 0.38472409 ... 0.28064986 0.1414118  0.40500652]]\n",
      "[[0.97784438 0.39497987 0.72795823 ... 0.85683277 0.19479422 0.40035958]\n",
      " [0.77070119 0.12017958 0.1586382  ... 0.04766743 0.13544565 0.11546869]\n",
      " [0.39022399 0.11504043 0.5310168  ... 0.9284984  0.77963004 0.43940842]\n",
      " ...\n",
      " [0.29634063 0.1665193  0.99686719 ... 0.12518529 0.14270314 0.60614914]\n",
      " [0.11422799 0.22504857 0.17904542 ... 0.38644922 0.85374618 0.15171242]\n",
      " [0.35671714 0.79608643 0.69941126 ... 0.34873733 0.59565564 0.2401036 ]]\n"
     ]
    }
   ],
   "source": [
    "rng = np.random.default_rng()\n",
    "\n",
    "# Training data\n",
    "data = rng.uniform(size=(500, 10))  # 500 entities, each contains 10 features\n",
    "label = rng.integers(low=0, high=2, size=(500, ))  # binary target\n",
    "train_data = lgb.Dataset(data, label=label)\n",
    "\n",
    "# Validation data (similar process)\n",
    "val_data = rng.uniform(size=(200, 10))  # 200 validation samples\n",
    "val_label = rng.integers(low=0, high=2, size=(200, ))\n",
    "\n",
    "valid_data = lgb.Dataset(val_data, label=val_label, reference=train_data)\n",
    "\n",
    "print(train_data.data)\n",
    "print(valid_data.data)"
   ]
  },
  {
   "cell_type": "code",
   "execution_count": null,
   "id": "ef72bc54",
   "metadata": {},
   "outputs": [
    {
     "name": "stdout",
     "output_type": "stream",
     "text": [
      "[LightGBM] [Warning] File train.bin exists, cannot save binary to it\n"
     ]
    },
    {
     "data": {
      "text/plain": [
       "<lightgbm.basic.Dataset at 0x13ad25e80>"
      ]
     },
     "execution_count": 16,
     "metadata": {},
     "output_type": "execute_result"
    }
   ],
   "source": [
    "train_data.save_binary('train.bin')\n",
    "valid_data.save_binary('valid.bin')"
   ]
  },
  {
   "cell_type": "code",
   "execution_count": 22,
   "id": "d062d598",
   "metadata": {},
   "outputs": [
    {
     "data": {
      "text/plain": [
       "<lightgbm.basic.Dataset at 0x107668f20>"
      ]
     },
     "execution_count": 22,
     "metadata": {},
     "output_type": "execute_result"
    }
   ],
   "source": [
    "rng = np.random.default_rng()\n",
    "w = rng.uniform(size=(500, ))\n",
    "train_data.set_weight(w)"
   ]
  },
  {
   "cell_type": "code",
   "execution_count": 23,
   "id": "1ad1bba3",
   "metadata": {},
   "outputs": [],
   "source": [
    "param = {'num_leaves': 31, 'objective': 'binary'}\n",
    "param['metric'] = ['auc', 'binary_logloss']"
   ]
  },
  {
   "cell_type": "code",
   "execution_count": null,
   "id": "693f9155",
   "metadata": {},
   "outputs": [
    {
     "name": "stdout",
     "output_type": "stream",
     "text": [
      "[LightGBM] [Info] Number of positive: 275, number of negative: 225\n",
      "[LightGBM] [Info] Auto-choosing col-wise multi-threading, the overhead of testing was 0.000475 seconds.\n",
      "You can set `force_col_wise=true` to remove the overhead.\n",
      "[LightGBM] [Info] Total Bins 1670\n",
      "[LightGBM] [Info] Number of data points in the train set: 500, number of used features: 10\n",
      "[LightGBM] [Info] [binary:BoostFromScore]: pavg=0.543661 -> initscore=0.175090\n",
      "[LightGBM] [Info] Start training from score 0.175090\n",
      "[LightGBM] [Warning] No further splits with positive gain, best gain: -inf\n",
      "[LightGBM] [Warning] No further splits with positive gain, best gain: -inf\n",
      "[LightGBM] [Warning] No further splits with positive gain, best gain: -inf\n",
      "[LightGBM] [Warning] No further splits with positive gain, best gain: -inf\n",
      "[LightGBM] [Warning] No further splits with positive gain, best gain: -inf\n",
      "[LightGBM] [Warning] No further splits with positive gain, best gain: -inf\n",
      "[LightGBM] [Warning] No further splits with positive gain, best gain: -inf\n",
      "[LightGBM] [Warning] No further splits with positive gain, best gain: -inf\n",
      "[LightGBM] [Warning] No further splits with positive gain, best gain: -inf\n",
      "[LightGBM] [Warning] No further splits with positive gain, best gain: -inf\n"
     ]
    }
   ],
   "source": [
    "num_round = 10\n",
    "bst = lgb.train(\n",
    "    params=param, \n",
    "    train_set=train_data, \n",
    "    num_boost_round=num_round, \n",
    "    valid_sets=[valid_data])"
   ]
  }
 ],
 "metadata": {
  "kernelspec": {
   "display_name": "Python 3",
   "language": "python",
   "name": "python3"
  },
  "language_info": {
   "codemirror_mode": {
    "name": "ipython",
    "version": 3
   },
   "file_extension": ".py",
   "mimetype": "text/x-python",
   "name": "python",
   "nbconvert_exporter": "python",
   "pygments_lexer": "ipython3",
   "version": "3.12.7"
  }
 },
 "nbformat": 4,
 "nbformat_minor": 5
}
