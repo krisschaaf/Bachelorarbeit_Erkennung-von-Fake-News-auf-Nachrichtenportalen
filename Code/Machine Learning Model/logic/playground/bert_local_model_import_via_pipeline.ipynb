{
 "cells": [
  {
   "cell_type": "code",
   "execution_count": 1,
   "id": "4e8c28e9",
   "metadata": {},
   "outputs": [
    {
     "name": "stderr",
     "output_type": "stream",
     "text": [
      "/Library/Frameworks/Python.framework/Versions/3.12/lib/python3.12/site-packages/tqdm/auto.py:21: TqdmWarning: IProgress not found. Please update jupyter and ipywidgets. See https://ipywidgets.readthedocs.io/en/stable/user_install.html\n",
      "  from .autonotebook import tqdm as notebook_tqdm\n",
      "Device set to use mps:0\n"
     ]
    },
    {
     "data": {
      "text/plain": [
       "[{'label': 'FAKE', 'score': 0.9998071789741516}]"
      ]
     },
     "execution_count": 1,
     "metadata": {},
     "output_type": "execute_result"
    }
   ],
   "source": [
    "from transformers import pipeline\n",
    "\n",
    "classifier = pipeline(model=\"krisschaaf/xlm-roberta-large-fake-news-german\")\n",
    "\n",
    "classifier(\n",
    "    \"I have a problem with my phone that needs to be resolved asap!!\"\n",
    ")"
   ]
  },
  {
   "cell_type": "code",
   "execution_count": 8,
   "id": "e0394074",
   "metadata": {},
   "outputs": [
    {
     "data": {
      "text/plain": [
       "[{'label': 'REAL', 'score': 0.9994004964828491}]"
      ]
     },
     "execution_count": 8,
     "metadata": {},
     "output_type": "execute_result"
    }
   ],
   "source": [
    "classifier(\"Iran will Atomanlagen wieder aufbauen, USA rufen zu Verhandlungen auf Das US-Militär hat Atomanlagen im Iran angegriffen. Trump spricht von kompletter Zerstörung, der Iran widerspricht. Der Überblick am Abend Iran kündigt schnellen Wiederaufbau angegriffener Atomanlagen an Der Iran will die Atomanlagen wieder aufbauen, die von den USA angegriffen worden sind. Das teilte die iranische Atomenergiebehörde laut iranischen Medien mit. Die USA hatten drei iranische Atomanlagen mit bunkerbrechenden Bomben angegriffen. Ziele waren die iranischen Anlagen Fordo, Natans und Isfahan. USA rufen Iran zu Verhandlungen auf US-Außenminister Marco Rubio sagte, dass die USA keinen Krieg mit dem Iran wollen. Auch ein Regimewechsel sei nicht das Ziel. Die USA seien bereit, um mit dem Iran über ein Atomabkommen zu verhandeln. Dies lehnte der Iran ab. USA warnen Iran vor Schließung der Straße von Hormus Die USA haben den Iran davor gewarnt, die Straße von Hormus zu blockieren. Es wäre wirtschaftlicher Suizid für sie, sagte Rubio. Sein Land hätte Möglichkeiten, um mit solch einem Szenario umzugehen. Eine mögliche Schließung der Hormus-Straße bezeichnete der US-Politiker als eine Eskalation, auf die die USA und weitere Nationen reagieren müssten. Unterschiedliche Darstellungen über Schäden an iranischen Atomanlagen Laut US-Präsident Donald Trump sind Irans entscheidende Anlagen zur Urananreicherung komplett zerstört. Der US-Generalstabschef sprach von extremen Schäden und Zerstörung an den drei Atomanlagen. Der Iran hat dem widersprochen. Die Urananreicherungsanlage Fordo sei nicht schwer beschädigt, sagte ein iranischer Abgeordneter der Nachrichtenagentur Fars. USA drohen Iran – Iran droht USA Trump hat den Iran aufgefordert, sich für den Weg des Friedens entscheiden, sonst drohe dem Land noch größere Zerstörung. Falls es zu weiteren Angriffen komme, würden diese weitaus heftiger ausfallen, sagte Trump. Irans Außenminister Abbas Araghtschi hat mit Konsequenzen gedroht. Die Ereignisse von heute Morgen sind ungeheuerlich und werden dauerhafte Folgen haben, schrieb er auf X.\")"
   ]
  },
  {
   "cell_type": "code",
   "execution_count": 9,
   "id": "706fc483",
   "metadata": {},
   "outputs": [
    {
     "name": "stderr",
     "output_type": "stream",
     "text": [
      "Some layers from the model checkpoint at yelp_review_full_bert were not used when initializing TFBertForSequenceClassification: ['dropout_113']\n",
      "- This IS expected if you are initializing TFBertForSequenceClassification from the checkpoint of a model trained on another task or with another architecture (e.g. initializing a BertForSequenceClassification model from a BertForPreTraining model).\n",
      "- This IS NOT expected if you are initializing TFBertForSequenceClassification from the checkpoint of a model that you expect to be exactly identical (initializing a BertForSequenceClassification model from a BertForSequenceClassification model).\n",
      "All the layers of TFBertForSequenceClassification were initialized from the model checkpoint at yelp_review_full_bert.\n",
      "If your task is similar to the task the model of the checkpoint was trained on, you can already use TFBertForSequenceClassification for predictions without further training.\n",
      "Device set to use 0\n"
     ]
    },
    {
     "data": {
      "text/plain": [
       "[{'label': 'LABEL_4', 'score': 0.6736652851104736}]"
      ]
     },
     "execution_count": 9,
     "metadata": {},
     "output_type": "execute_result"
    }
   ],
   "source": [
    "from transformers import pipeline, TFAutoModelForSequenceClassification, AutoTokenizer\n",
    "\n",
    "model = TFAutoModelForSequenceClassification.from_pretrained(\"yelp_review_full_bert\")\n",
    "tokenizer = AutoTokenizer.from_pretrained(\"bert-base-cased\")\n",
    "\n",
    "nlp_pipeline = pipeline(\"text-classification\", model=model, tokenizer=tokenizer)\n",
    "\n",
    "# Example usage:\n",
    "nlp_pipeline(\"This restaurant was fantastic!\")"
   ]
  }
 ],
 "metadata": {
  "kernelspec": {
   "display_name": "Python 3",
   "language": "python",
   "name": "python3"
  },
  "language_info": {
   "codemirror_mode": {
    "name": "ipython",
    "version": 3
   },
   "file_extension": ".py",
   "mimetype": "text/x-python",
   "name": "python",
   "nbconvert_exporter": "python",
   "pygments_lexer": "ipython3",
   "version": "3.12.7"
  }
 },
 "nbformat": 4,
 "nbformat_minor": 5
}
